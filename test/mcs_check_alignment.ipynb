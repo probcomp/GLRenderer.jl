{
 "cells": [
  {
   "cell_type": "markdown",
   "metadata": {},
   "source": [
    "# Analyze Valid Row Alignment\n",
    "This notebook extracts all valid rows (i.e. such that only show walls without the ceiling or floor protruding into them which are thus useful for corner detection via wall gradients) and plots them over each other."
   ]
  },
  {
   "cell_type": "code",
   "execution_count": 1,
   "metadata": {},
   "outputs": [],
   "source": [
    "import Revise\n",
    "\n",
    "Revise.errors()\n",
    "Revise.revise()"
   ]
  },
  {
   "cell_type": "markdown",
   "metadata": {},
   "source": [
    "Start MCS environment in rectangular room."
   ]
  },
  {
   "cell_type": "code",
   "execution_count": 2,
   "metadata": {},
   "outputs": [
    {
     "name": "stdout",
     "output_type": "stream",
     "text": [
      "Found path: /home/falk/mitibm/AI2Thor_MCS/MCS-AI2-THOR-Unity-App-v0.4.3.x86_64\n"
     ]
    },
    {
     "name": "stderr",
     "output_type": "stream",
     "text": [
      "WARNING: using Perception.CameraIntrinsics in module Main conflicts with an existing identifier.\n"
     ]
    },
    {
     "data": {
      "text/plain": [
       "\"submission\""
      ]
     },
     "execution_count": 2,
     "metadata": {},
     "output_type": "execute_result"
    }
   ],
   "source": [
    "import PyPlot\n",
    "plt = PyPlot.plt\n",
    "\n",
    "using PyCall\n",
    "@pyimport machine_common_sense as mcs\n",
    "StepMetadata=mcs.StepMetadata\n",
    "ObjectMetadata=mcs.ObjectMetadata\n",
    "\n",
    "global numpy = pyimport(\"numpy\")\n",
    "@pyimport numpy as np\n",
    "\n",
    "using Serialization\n",
    "using StaticArrays\n",
    "import GenGridSLAM: astar_search, backproject_grid_coord_to_world_coord, CameraIntrinsics, ccl, centroid_direction, centroid_direction_2, cloud_from_step_metadata,\n",
    "    cloud_to_grid_coords, compute_frontier,\n",
    "    convert_probabilistic_occupancy_grid_to_string_array, count_component_size,\n",
    "    create_2d_occupancy_grid_with_segment_ids, expand_2d_occupancy_grid_dict_into_full_matrix, find_closest_unexplored_component,\n",
    "    find_max_component, flip_array, generate_pddl, get_agent_grid_position_and_rotation, grid_coords_to_cloud, grid_xz_to_map_xz,\n",
    "    in_grid_bounds, map_xz_to_grid_xz,\n",
    "    OccupancyGrid, OccupancyGridConfig, pretty_print_occupancy_grid, pretty_print_occupancy_grid_string_array,\n",
    "    print_occupancy_grid, project_3d_occupancy_grid_into_2d_dict, render_occupancy_grid, render_occupancy_grid_oriented,\n",
    "    set_entry!, update_occupancy_grid!, project_3d_og_to_2d, generate_maps_2d_oriented, world_point_to_oriented_grid_coordinates\n",
    "\n",
    "pram_path = ENV[\"PRAM_PATH\"]\n",
    "include(\"$(pram_path)/GenAgent/src/config/config.jl\")\n",
    "include(\"$(pram_path)/GenAgent/src/state/agent.jl\")\n",
    "include(\"$(pram_path)/GenAgent/src/submission.jl\")\n",
    "\n",
    "scene_path=joinpath(pwd(), \"data/rectangular_colored_walls_empty.json\")\n",
    "mcs_executable_path=ENV[\"MCS_EXECUTABLE_PATH\"]\n",
    "mcs_config_path=ENV[\"MCS_CONFIG_FILE_PATH\"]\n",
    "\n",
    "config_data, status = mcs.load_scene_json_file(scene_path)\n",
    "controller = mcs.create_controller(unity_app_file_path=mcs_executable_path,\n",
    "                                   config_file_path=mcs_config_path)\n",
    "step_metadata = controller.start_scene(config_data)\n",
    "\n",
    "config = McsConfiguration()\n",
    "information_level = infer_information_level(step_metadata)\n",
    "\n",
    "intrinsics = CameraIntrinsics(step_metadata)\n",
    "agent = Agent(intrinsics, [step_metadata], [],\n",
    "              [Pose([0.0,0.0,0.0],  0.0, step_metadata.head_tilt)],\n",
    "              [], nothing, information_level, config)\n",
    "\n",
    "# Overwrite pram_mode so we don't need to deal with Redis etc.\n",
    "agent.config.compute_configuration.pram_mode = \"submission\"  # usually ENV[\"PRAM_MODE\"]"
   ]
  },
  {
   "cell_type": "markdown",
   "metadata": {},
   "source": [
    "Define functions for extracting all valid rows and retrieving all scanlines."
   ]
  },
  {
   "cell_type": "code",
   "execution_count": 3,
   "metadata": {
    "scrolled": true
   },
   "outputs": [
    {
     "data": {
      "text/plain": [
       "get_scanline_from_camera_frame"
      ]
     },
     "execution_count": 3,
     "metadata": {},
     "output_type": "execute_result"
    }
   ],
   "source": [
    "function find_scanlines(valid_index_mask)\n",
    "    valid_rows = prod(valid_index_mask, dims=2)  # (400, 1) vector - pick index with value 1\n",
    "    valid_indices = []\n",
    "    for row_idx in 1:size(valid_rows)[1]\n",
    "        if valid_rows[row_idx]\n",
    "            push!(valid_indices, row_idx)\n",
    "        end\n",
    "    end\n",
    "    return valid_indices\n",
    "end\n",
    "\n",
    "\"\"\"\n",
    "Same as `get_scanline()`, but works on camera frame point cloud\n",
    "without depending on global coordinates. Based on `detect_corner_from_camera_frame(agent)`.\n",
    "\"\"\"\n",
    "function get_scanline_from_camera_frame(agent::Agent, intrinsics::CameraIntrinsics;\n",
    "        verbose = false)\n",
    "    \n",
    "    step_metadata = agent.step_metadatas[end]\n",
    "    \n",
    "    cloud = cloud_from_depth_map(\n",
    "                Matrix(numpy.array(last(step_metadata.depth_map_list))),\n",
    "                intrinsics.cx, intrinsics.cy,\n",
    "                intrinsics.fx, intrinsics.fy,\n",
    "                intrinsics.width, intrinsics.height; stride_x=1, stride_y=1\n",
    "            )\n",
    "    cloud_array_2d = reshape(cloud, (3, size(agent.step_metadatas[end].depth_map_list[end])...))\n",
    "    \n",
    "    # We could get point cloud in world frame like this, but don't know our pose after kidnapping:\n",
    "    # pose = agent.poses[end]\n",
    "    # cloud = rotate_cloud(cloud; head_tilt_deg=pose.head_tilt, view_angle_deg=pose.rotation)\n",
    "    # cloud = translate_cloud(cloud, pose.position)\n",
    "    # cloud_array_2d_b = reshape(cloud, (3, size(agent.step_metadatas[end].depth_map_list[end])...));\n",
    "    \n",
    "    height_offset = 0.1\n",
    "    min_height, max_height = minimum(cloud[2, :]) + height_offset, maximum(cloud[2, :]) - height_offset\n",
    "    if verbose println(\"Height range: $(min_height) to $(max_height)\") end\n",
    "\n",
    "    # Boolean mask for all pixels that are definitely not ceiling or floor\n",
    "    valid_indices = (cloud[2,:] .> min_height) .& (cloud[2,:] .< max_height)\n",
    "    valid_indices_2d = reshape(valid_indices, size(agent.step_metadatas[end].depth_map_list[end]))\n",
    "\n",
    "    scanline_idx = find_scanlines(valid_indices_2d)\n",
    "    \n",
    "    return cloud_array_2d, scanline_idx\n",
    "end"
   ]
  },
  {
   "cell_type": "markdown",
   "metadata": {},
   "source": [
    "Rotate s.t. corner is in view instead of just straight wall."
   ]
  },
  {
   "cell_type": "code",
   "execution_count": 4,
   "metadata": {},
   "outputs": [
    {
     "name": "stdout",
     "output_type": "stream",
     "text": [
      "Plotted 263 rows.\n",
      "Plotted 253 rows.\n",
      "Plotted 241 rows.\n",
      "Plotted 235 rows.\n",
      "Plotted 225 rows.\n",
      "Plotted 219 rows.\n"
     ]
    },
    {
     "data": {
      "image/png": "[encoded data removed]",
      "text/plain": [
       "PyPlot.Figure(PyObject <Figure size 640x480 with 1 Axes>)"
      ]
     },
     "metadata": {},
     "output_type": "display_data"
    },
    {
     "name": "stdout",
     "output_type": "stream",
     "text": [
      "Plotted 220 rows.\n"
     ]
    }
   ],
   "source": [
    "for i in 1:7\n",
    "    execute_command(controller, agent, \"RotateRight\")\n",
    "    # Could plot all valid lines for each step\n",
    "#     cloud_array_2d, scanline_indices = get_scanline_from_camera_frame(agent, intrinsics)\n",
    "#     rois = []\n",
    "#     for scanline_idx in scanline_indices\n",
    "#         roi = cloud_array_2d[1:3, scanline_idx, :]\n",
    "#         push!(rois, roi)\n",
    "#         plt.scatter(roi[1,:], roi[3,:], c=\"lightgray\", marker=\"o\")\n",
    "#     end\n",
    "#     println(\"Plotted $(length(scanline_indices)) rows.\")\n",
    "end"
   ]
  },
  {
   "cell_type": "markdown",
   "metadata": {},
   "source": [
    "Get point cloud as `(3, 400, 600)` array as well as valid indices of rows that exclusively show walls. Then iterate over valid rows and plot their (x,z)-coordinates."
   ]
  },
  {
   "cell_type": "code",
   "execution_count": null,
   "metadata": {
    "scrolled": false
   },
   "outputs": [],
   "source": [
    "cloud_array_2d, scanline_indices = get_scanline_from_camera_frame(agent, intrinsics)\n",
    "rois = []\n",
    "for scanline_idx in scanline_indices\n",
    "    roi = cloud_array_2d[1:3, scanline_idx, :]\n",
    "    push!(rois, roi)\n",
    "    plt.scatter(roi[1,:], roi[3,:], c=\"lightgray\", marker=\"o\")\n",
    "end\n",
    "println(\"Plotted $(length(scanline_indices)) rows.\")"
   ]
  },
  {
   "cell_type": "markdown",
   "metadata": {},
   "source": [
    "Additionally, compute average distance for x, y and z coordinates between first and last valid row. `x` and `z` differences should be close to `0` if the valid rows are aligned well and `y` approximately `3` if the entire room is in view, since the height goes from `0` to `3`."
   ]
  },
  {
   "cell_type": "code",
   "execution_count": null,
   "metadata": {},
   "outputs": [],
   "source": [
    "x_diff = sum(rois[1][1,:]-rois[length(scanline_indices)][1,:]) / length(rois[220][3,:])\n",
    "y_diff = sum(rois[1][2,:]-rois[length(scanline_indices)][2,:]) / length(rois[220][3,:])\n",
    "z_diff = sum(rois[1][3,:]-rois[length(scanline_indices)][3,:]) / length(rois[220][3,:])\n",
    "println(\"Avg. difference between first and last valid row in x: $(x_diff), y: $(y_diff), z: $(z_diff)\")"
   ]
  },
  {
   "cell_type": "markdown",
   "metadata": {},
   "source": [
    "Show both depth image and then highlight all valid rows."
   ]
  },
  {
   "cell_type": "code",
   "execution_count": null,
   "metadata": {},
   "outputs": [],
   "source": [
    "plt.imshow(agent.step_metadatas[end].depth_map_list[end])"
   ]
  },
  {
   "cell_type": "code",
   "execution_count": null,
   "metadata": {},
   "outputs": [],
   "source": [
    "validation_map = copy(agent.step_metadatas[end].depth_map_list[end])\n",
    "for scanline_idx in scanline_indices\n",
    "    validation_map[scanline_idx, :] .= 0\n",
    "end\n",
    "plt.imshow(validation_map)"
   ]
  },
  {
   "cell_type": "code",
   "execution_count": null,
   "metadata": {},
   "outputs": [],
   "source": [
    "function find_closest_row(scanline_indices, target_row::Int = 200)\n",
    "    min_distance = 99999\n",
    "    row = -1\n",
    "    for scanline_idx in scanline_indices\n",
    "        current_distance = abs(scanline_idx - target_row)\n",
    "        if current_distance < min_distance\n",
    "            min_distance = current_distance\n",
    "            row = scanline_idx\n",
    "        end\n",
    "    end\n",
    "    \n",
    "    return row, min_distance\n",
    "end\n",
    "\n",
    "a, b = find_closest_row(scanline_indices)\n",
    "println(\"Closest row to target index 200: $(a), distance to target $(b).\")"
   ]
  }
 ],
 "metadata": {
  "kernelspec": {
   "display_name": "Julia 1.6.0",
   "language": "julia",
   "name": "julia-1.6"
  },
  "language_info": {
   "file_extension": ".jl",
   "mimetype": "application/julia",
   "name": "julia",
   "version": "1.6.0"
  }
 },
 "nbformat": 4,
 "nbformat_minor": 4
}
